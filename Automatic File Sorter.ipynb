{
 "cells": [
  {
   "cell_type": "code",
   "execution_count": 25,
   "id": "62200964",
   "metadata": {},
   "outputs": [],
   "source": [
    "import os, shutil"
   ]
  },
  {
   "cell_type": "code",
   "execution_count": 26,
   "id": "1ea9a457",
   "metadata": {},
   "outputs": [],
   "source": [
    "path = r\"C:/Users/joaop/Desktop/Teste/\""
   ]
  },
  {
   "cell_type": "code",
   "execution_count": 31,
   "id": "7d55801a",
   "metadata": {},
   "outputs": [],
   "source": [
    "file_name = os.listdir(path)"
   ]
  },
  {
   "cell_type": "code",
   "execution_count": 37,
   "id": "23c6c690",
   "metadata": {},
   "outputs": [],
   "source": [
    "file_name = os.listdir(path)\n",
    "\n",
    "folder_names = ['jpeg files','png files','txt files','docx files','jpg files']\n",
    "\n",
    "for loop in range(0,5):\n",
    "    if not os.path.exists(path + folder_names[loop] ):\n",
    "        #print(path + folder_names[loop])\n",
    "        os.makedirs((path + folder_names[loop] ))\n",
    "        \n",
    "for file in file_name:\n",
    "    if \".jpeg\" in file and not os.path.exists(path + \"jpeg files/\" + file):\n",
    "        shutil.move(path + file, path + \"jpeg files/\" + file)\n",
    "    elif \".txt\" in file and not os.path.exists(path + \"txt files/\" + file):\n",
    "        shutil.move(path + file, path + \"txt files/\" + file)\n",
    "    elif \".png\" in file and not os.path.exists(path + \"png files/\" + file):\n",
    "        shutil.move(path + file, path + \"png files/\" + file)\n",
    "    elif \".docx\" in file and not os.path.exists(path + \"docx files/\" + file):\n",
    "        shutil.move(path + file, path + \"docx files/\" + file)\n",
    "    elif \".jpg\" in file and not os.path.exists(path + \"jpg files/\" + file):\n",
    "        shutil.move(path + file, path + \"jpg files/\" + file)\n"
   ]
  },
  {
   "cell_type": "code",
   "execution_count": null,
   "id": "1884eb33",
   "metadata": {},
   "outputs": [],
   "source": [
    "\n"
   ]
  },
  {
   "cell_type": "code",
   "execution_count": null,
   "id": "362378d4",
   "metadata": {},
   "outputs": [],
   "source": []
  },
  {
   "cell_type": "code",
   "execution_count": null,
   "id": "1aa96fc1",
   "metadata": {},
   "outputs": [],
   "source": []
  }
 ],
 "metadata": {
  "kernelspec": {
   "display_name": "Python 3 (ipykernel)",
   "language": "python",
   "name": "python3"
  },
  "language_info": {
   "codemirror_mode": {
    "name": "ipython",
    "version": 3
   },
   "file_extension": ".py",
   "mimetype": "text/x-python",
   "name": "python",
   "nbconvert_exporter": "python",
   "pygments_lexer": "ipython3",
   "version": "3.9.13"
  }
 },
 "nbformat": 4,
 "nbformat_minor": 5
}
