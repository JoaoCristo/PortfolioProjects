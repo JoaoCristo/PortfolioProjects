{
 "cells": [
  {
   "cell_type": "code",
   "execution_count": 1,
   "id": "63dd90a5",
   "metadata": {},
   "outputs": [],
   "source": [
    "# Import libraries\n",
    "\n",
    "from bs4 import BeautifulSoup\n",
    "import requests\n",
    "import time\n",
    "import datetime\n",
    "\n",
    "import smtplib\n"
   ]
  },
  {
   "cell_type": "code",
   "execution_count": 50,
   "id": "9935652b",
   "metadata": {},
   "outputs": [
    {
     "name": "stdout",
     "output_type": "stream",
     "text": [
      "\n",
      "            Game of Thrones ABYstyle Conjunto de tronos, carteira Targaryen Vinyle\n",
      "           \n",
      "16\n",
      "                          \n",
      "                           ,\n"
     ]
    }
   ],
   "source": [
    "# Connect to Website\n",
    "\n",
    "URL = 'https://www.amazon.es/-/pt/dp/B06XRHLZKH/ref=sr_1_13?crid=3LUX2WKRUFUPT&keywords=game+of+thrones&qid=1678104590&sprefix=game+of+thrones%2Cspecialty-aps%2C88&sr=8-13'\n",
    "headers = {\"User-Agent\": \"Mozilla/5.0 (Windows NT 10.0; Win64; x64) AppleWebKit/537.36 (KHTML, like Gecko) Chrome/110.0.0.0 Safari/537.36\", \"Accept-Encoding\":\"gzip, deflate\", \"Accept\":\"text/html,application/xhtml+xml,application/xml;q=0.9,*/*;q=0.8\", \"DNT\":\"1\",\"Connection\":\"close\", \"Upgrade-Insecure-Requests\":\"1\"}\n",
    "\n",
    "page = requests.get(URL, headers=headers)\n",
    "\n",
    "soup1 = BeautifulSoup(page.content, \"html.parser\")\n",
    "\n",
    "soup2 = BeautifulSoup(soup1.prettify(), \"html.parser\")\n",
    "\n",
    "title = soup2.find(id='productTitle').get_text()\n",
    "price=soup2.find(\"span\", attrs={'class':'a-price-whole'}).text.strip()\n",
    "\n",
    "\n",
    "print(title)\n",
    "print(price)\n",
    "\n",
    "\n",
    "\n",
    "\n"
   ]
  },
  {
   "cell_type": "code",
   "execution_count": 51,
   "id": "b396da66",
   "metadata": {},
   "outputs": [
    {
     "name": "stdout",
     "output_type": "stream",
     "text": [
      "Game of Thrones ABYstyle Conjunto de tronos, carteira Targaryen Vinyle\n",
      "16\n",
      "                          \n",
      "                           ,\n"
     ]
    }
   ],
   "source": [
    "price = price.strip()\n",
    "title = title.strip()\n",
    "\n",
    "print(title)\n",
    "print(price)"
   ]
  },
  {
   "cell_type": "code",
   "execution_count": 52,
   "id": "60eceeb0",
   "metadata": {},
   "outputs": [
    {
     "name": "stdout",
     "output_type": "stream",
     "text": [
      "2023-03-06\n"
     ]
    }
   ],
   "source": [
    "import datetime\n",
    "\n",
    "today = datetime.date.today()\n",
    "\n",
    "print(today)"
   ]
  },
  {
   "cell_type": "code",
   "execution_count": 53,
   "id": "ac073542",
   "metadata": {},
   "outputs": [],
   "source": [
    "import csv\n",
    "\n",
    "header = ['Title','Price','Date']\n",
    "data = [title,price,today]\n",
    "\n",
    "#with open('AmazonWebScraperDataset.csv', 'w', newline='', encoding = 'UTF8') as f:\n",
    "    #writer = csv.writer(f)\n",
    "    #writer.writerow(header)\n",
    "    #writer.writerow(data)\n",
    "\n"
   ]
  },
  {
   "cell_type": "code",
   "execution_count": 58,
   "id": "246a6d0b",
   "metadata": {
    "scrolled": true
   },
   "outputs": [
    {
     "name": "stdout",
     "output_type": "stream",
     "text": [
      "                                               Title  \\\n",
      "0  Game of Thrones ABYstyle Conjunto de tronos, c...   \n",
      "1  Game of Thrones ABYstyle Conjunto de tronos, c...   \n",
      "2  Game of Thrones ABYstyle Conjunto de tronos, c...   \n",
      "\n",
      "                                               price        Date  \n",
      "0  16\\n                          \\n              ...  2023-03-06  \n",
      "1  16\\n                          \\n              ...  2023-03-06  \n",
      "2  16\\n                          \\n              ...  2023-03-06  \n"
     ]
    }
   ],
   "source": [
    "import pandas as pd\n",
    "\n",
    "df = pd.read_csv(r'C:\\Users\\joaop\\AmazonWebScraperDataset.csv')\n",
    "\n",
    "print(df)"
   ]
  },
  {
   "cell_type": "code",
   "execution_count": 57,
   "id": "3c570016",
   "metadata": {},
   "outputs": [],
   "source": [
    "#appending data to the csv\n",
    "\n",
    "with open('AmazonWebScraperDataset.csv', 'a+', newline='', encoding = 'UTF8') as f:\n",
    "    writer = csv.writer(f)\n",
    "    writer.writerow(data)"
   ]
  },
  {
   "cell_type": "code",
   "execution_count": 60,
   "id": "a250f080",
   "metadata": {},
   "outputs": [],
   "source": [
    "\n",
    "def check_price():\n",
    "    URL = 'https://www.amazon.es/-/pt/dp/B06XRHLZKH/ref=sr_1_13?crid=3LUX2WKRUFUPT&keywords=game+of+thrones&qid=1678104590&sprefix=game+of+thrones%2Cspecialty-aps%2C88&sr=8-13'\n",
    "    \n",
    "    headers = {\"User-Agent\": \"Mozilla/5.0 (Windows NT 10.0; Win64; x64) AppleWebKit/537.36 (KHTML, like Gecko) Chrome/110.0.0.0 Safari/537.36\", \"Accept-Encoding\":\"gzip, deflate\", \"Accept\":\"text/html,application/xhtml+xml,application/xml;q=0.9,*/*;q=0.8\", \"DNT\":\"1\",\"Connection\":\"close\", \"Upgrade-Insecure-Requests\":\"1\"}\n",
    "\n",
    "    page = requests.get(URL, headers=headers)\n",
    "\n",
    "    soup1 = BeautifulSoup(page.content, \"html.parser\")\n",
    "\n",
    "    soup2 = BeautifulSoup(soup1.prettify(), \"html.parser\")\n",
    "\n",
    "    title = soup2.find(id='productTitle').get_text()\n",
    "    price=soup2.find(\"span\", attrs={'class':'a-price-whole'}).text.strip()\n",
    "\n",
    "    price = price.strip()\n",
    "    title = title.strip()\n",
    "\n",
    "    import datetime\n",
    "\n",
    "    today = datetime.date.today()\n",
    "\n",
    "    header = ['Title','Price','Date']\n",
    "    data = [title,price,today]\n",
    "    \n",
    "    with open('AmazonWebScraperDataset.csv', 'a+', newline='', encoding = 'UTF8') as f:\n",
    "        writer = csv.writer(f)\n",
    "        writer.writerow(data)\n",
    "        \n",
    "    if(price < 14):\n",
    "        send_mail()\n",
    "\n",
    "\n"
   ]
  },
  {
   "cell_type": "code",
   "execution_count": null,
   "id": "12838364",
   "metadata": {},
   "outputs": [],
   "source": [
    "while(True):\n",
    "    check_price()\n",
    "    time.sleep(86400)"
   ]
  },
  {
   "cell_type": "code",
   "execution_count": 64,
   "id": "f0164e96",
   "metadata": {},
   "outputs": [
    {
     "name": "stdout",
     "output_type": "stream",
     "text": [
      "                                               Title  \\\n",
      "0  Game of Thrones ABYstyle Conjunto de tronos, c...   \n",
      "1  Game of Thrones ABYstyle Conjunto de tronos, c...   \n",
      "2  Game of Thrones ABYstyle Conjunto de tronos, c...   \n",
      "3  Game of Thrones ABYstyle Conjunto de tronos, c...   \n",
      "4  Game of Thrones ABYstyle Conjunto de tronos, c...   \n",
      "5  Game of Thrones ABYstyle Conjunto de tronos, c...   \n",
      "6  Game of Thrones ABYstyle Conjunto de tronos, c...   \n",
      "7  Game of Thrones ABYstyle Conjunto de tronos, c...   \n",
      "\n",
      "                                               price        Date  \n",
      "0  16\\n                          \\n              ...  2023-03-06  \n",
      "1  16\\n                          \\n              ...  2023-03-06  \n",
      "2  16\\n                          \\n              ...  2023-03-06  \n",
      "3  16\\n                          \\n              ...  2023-03-06  \n",
      "4  16\\n                          \\n              ...  2023-03-06  \n",
      "5  16\\n                          \\n              ...  2023-03-06  \n",
      "6  16\\n                          \\n              ...  2023-03-06  \n",
      "7  16\\n                          \\n              ...  2023-03-06  \n"
     ]
    }
   ],
   "source": [
    "import pandas as pd\n",
    "\n",
    "df = pd.read_csv(r'C:\\Users\\joaop\\AmazonWebScraperDataset.csv')\n",
    "\n",
    "print(df)"
   ]
  },
  {
   "cell_type": "code",
   "execution_count": null,
   "id": "2785301b",
   "metadata": {},
   "outputs": [],
   "source": [
    "def send_mail():\n",
    "    server = smtplib.SMTP_SSL('smtp.gmail.com',465)\n",
    "    server.ehlo()\n",
    "    #server.starttls()\n",
    "    server.ehlo()\n",
    "    server.login('joao.pa.cristo@gmail.com','xxxxxxxxxxxxxx')\n",
    "    \n",
    "    subject = \"The Shirt you want is below $15! Now is your chance to buy!\"\n",
    "    body = \"João, This is the moment we have been waiting for. Now is your chance to pick up the shirt of your dreams. Don't mess it up! Link here: https://www.amazon.com/Funny-Data-Systems-Business-Analyst/dp/B07FNW9FGJ/ref=sr_1_3?dchild=1&keywords=data+analyst+tshirt&qid=1626655184&sr=8-3\"\n",
    "   \n",
    "    msg = f\"Subject: {subject}\\n\\n{body}\"\n",
    "    \n",
    "    server.sendmail(\n",
    "        'joao.pa.cristo@gmail.com',\n",
    "        msg\n",
    "     \n",
    "    )"
   ]
  },
  {
   "cell_type": "code",
   "execution_count": null,
   "id": "284373a3",
   "metadata": {},
   "outputs": [],
   "source": []
  },
  {
   "cell_type": "code",
   "execution_count": null,
   "id": "de0bab96",
   "metadata": {},
   "outputs": [],
   "source": []
  }
 ],
 "metadata": {
  "kernelspec": {
   "display_name": "Python 3 (ipykernel)",
   "language": "python",
   "name": "python3"
  },
  "language_info": {
   "codemirror_mode": {
    "name": "ipython",
    "version": 3
   },
   "file_extension": ".py",
   "mimetype": "text/x-python",
   "name": "python",
   "nbconvert_exporter": "python",
   "pygments_lexer": "ipython3",
   "version": "3.9.13"
  }
 },
 "nbformat": 4,
 "nbformat_minor": 5
}
