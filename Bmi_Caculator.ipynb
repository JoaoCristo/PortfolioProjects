{
 "cells": [
  {
   "cell_type": "code",
   "execution_count": null,
   "id": "1462ca19",
   "metadata": {},
   "outputs": [],
   "source": [
    "name = (input(\"What is your name: \"))\n",
    "\n",
    "weight = float(input(\"Enter your weights in pounds: \"))\n",
    "\n",
    "height = float(input(\"Enter your height in inches: \"))\n",
    "\n",
    "BMI = (weight * 703) / (height * height)\n",
    "print(BMI)\n",
    "\n",
    "if BMI >0:\n",
    "    if BMI < 18.5:\n",
    "        print(name +\", you are underweight.\")\n",
    "    elif BMI >= 18.5 and BMI < 25:\n",
    "        print(name +\", you are of normal weight.\")\n",
    "    elif BMI >= 25 and BMI < 30:\n",
    "        print(name +\", you are overweight.\")\n",
    "    elif BMI<= 40:\n",
    "        print(name +\", you are obese.\")\n",
    "    else:\n",
    "        print(name +\", you are morbidly obese\")\n",
    "else:\n",
    "    print(\"Enter valid input\")"
   ]
  },
  {
   "cell_type": "code",
   "execution_count": null,
   "id": "47c07c39",
   "metadata": {},
   "outputs": [],
   "source": [
    "if BMI >0:\n",
    "    if BMI < 18.5:\n",
    "        print(name +\", you are underweight.\")\n",
    "    elif BMI >= 18.5 and BMI < 25:\n",
    "        print(name +\", you are of normal weight.\")\n",
    "    elif BMI >= 25 and BMI < 30:\n",
    "        print(name +\", you are overweight.\")\n",
    "    elif BMI<= 40:\n",
    "        print(name +\", you are obese.\")\n",
    "    else:\n",
    "        print(name +\", you are morbidly obese\")\n",
    "else:\n",
    "    print(\"Enter valid input\")\n",
    "    "
   ]
  },
  {
   "cell_type": "code",
   "execution_count": null,
   "id": "0e2a62f8",
   "metadata": {},
   "outputs": [],
   "source": []
  },
  {
   "cell_type": "code",
   "execution_count": null,
   "id": "1d4230bd",
   "metadata": {},
   "outputs": [],
   "source": []
  },
  {
   "cell_type": "code",
   "execution_count": null,
   "id": "412753fb",
   "metadata": {},
   "outputs": [],
   "source": []
  },
  {
   "cell_type": "code",
   "execution_count": null,
   "id": "ed3a3c78",
   "metadata": {},
   "outputs": [],
   "source": []
  },
  {
   "cell_type": "code",
   "execution_count": null,
   "id": "60322fce",
   "metadata": {},
   "outputs": [],
   "source": []
  },
  {
   "cell_type": "code",
   "execution_count": null,
   "id": "9b2fd15b",
   "metadata": {},
   "outputs": [],
   "source": []
  },
  {
   "cell_type": "code",
   "execution_count": null,
   "id": "23891b2e",
   "metadata": {},
   "outputs": [],
   "source": []
  },
  {
   "cell_type": "code",
   "execution_count": null,
   "id": "fbbf302c",
   "metadata": {},
   "outputs": [],
   "source": []
  }
 ],
 "metadata": {
  "kernelspec": {
   "display_name": "Python 3 (ipykernel)",
   "language": "python",
   "name": "python3"
  },
  "language_info": {
   "codemirror_mode": {
    "name": "ipython",
    "version": 3
   },
   "file_extension": ".py",
   "mimetype": "text/x-python",
   "name": "python",
   "nbconvert_exporter": "python",
   "pygments_lexer": "ipython3",
   "version": "3.9.13"
  }
 },
 "nbformat": 4,
 "nbformat_minor": 5
}
